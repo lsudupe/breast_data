import os

# Specify the directory you want to change to
new_directory = "/ibex/scratch/medinils/breast_data"

# Change the current working directory
os.chdir(new_directory)

# Verify that the current working directory has changed
current_directory = os.getcwd()
print(f"Current directory: {current_directory}")



